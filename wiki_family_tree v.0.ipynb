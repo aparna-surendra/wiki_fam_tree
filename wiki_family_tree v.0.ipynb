{
 "cells": [
  {
   "cell_type": "markdown",
   "metadata": {},
   "source": [
    "## Objective: Construct a family tree for persons of interest using Wikipedia \n",
    "This code takes a csv file with names (in this instance, the world leaders list from the Open Sanctions website) and scapes wikipedia to identify relatives. <br> \n",
    "It outputs a new csv file, 'wikipedia_family_tree.csv', with the following columns: \n",
    "<ul> \n",
    "<li> key (person of interest) </li>\n",
    "<li> source (link to source wiki page)</li>\n",
    "<li> relationship (first letter represents: 'Spouse', 'Partner', 'Children', 'Parent', 'Relatives','Family')</li> \n",
    "<li> name (of relative) </li> \n",
    "<li> wiki_link (for relative, if available) </li> \n",
    "<li> notes (any additional detail) </li>\n",
    "</ul>\n",
    "\n",
    "TO DO:\n",
    "<ul> \n",
    "<li>More robustly extract family information (outside rule-based methods?) </li> \n",
    "<li>Extend to second and third-order relationships and manage duplicates </li> \n",
    "<li>Model family networks e.g. using visualisations </li> \n",
    "<li>This code works for prominent people (e.g. world leaders) - assess whether it extends to less prominent people (whose wiki pages may be differently structured) </li> \n",
    "</ul> "
   ]
  },
  {
   "cell_type": "code",
   "execution_count": 1,
   "metadata": {
    "collapsed": true
   },
   "outputs": [],
   "source": [
    "import pandas as pd\n",
    "import numpy as np\n",
    "from bs4 import BeautifulSoup\n",
    "import requests\n",
    "import json\n",
    "import re"
   ]
  },
  {
   "cell_type": "code",
   "execution_count": 2,
   "metadata": {
    "collapsed": false
   },
   "outputs": [],
   "source": [
    "#Data source\n",
    "key_url = 'http://ia802807.s3dns.us.archive.org/opensanctions/worldpresidentsdb.csv'\n",
    "key_df = pd.read_csv(key_url)"
   ]
  },
  {
   "cell_type": "code",
   "execution_count": 3,
   "metadata": {
    "collapsed": false
   },
   "outputs": [],
   "source": [
    "#Construct ids for each name (Barack Obama will become barackobama).\n",
    "key_df[\"id\"] = key_df[\"name\"].apply(lambda x: ''.join(x.lower().split()))"
   ]
  },
  {
   "cell_type": "code",
   "execution_count": 4,
   "metadata": {
    "collapsed": true
   },
   "outputs": [],
   "source": [
    "#Family data labels in wiki infobox. \n",
    "fam_list = ['Spouse', 'Partner', 'Children', 'Parent', 'Relatives','Family'] #https://en.wikipedia.org/wiki/Template:Infobox_person"
   ]
  },
  {
   "cell_type": "code",
   "execution_count": 15,
   "metadata": {
    "collapsed": false
   },
   "outputs": [],
   "source": [
    "def fam_tree(key_orig):\n",
    "    #Search for most relevant wiki link\n",
    "    url = 'https://en.wikipedia.org/w/api.php?action=opensearch&search=' + key_orig + '&limit=1&namespace=0&format=json'\n",
    "    r = requests.get(url)\n",
    "    json_data = r.json()\n",
    "    try: \n",
    "        new_url = json_data[-1][0]\n",
    "        #Scrape wiki page using BeautifulSoup\n",
    "        res = requests.get(new_url)\n",
    "        soup = BeautifulSoup(res.text, 'html.parser')\n",
    "        fam_details = []\n",
    "        for item in soup.find_all(\"tr\"):\n",
    "            #Assume relevant data appears before 'Website', Military Service', 'Signature'\n",
    "            if item.text.startswith(tuple(['Website','Military service', 'Signature'])):\n",
    "                break\n",
    "            else: \n",
    "                if item.text.startswith(tuple(fam_list)):\n",
    "                    item_id = item.text[0]\n",
    "                    [fam_details.append([key_orig, new_url, item_id, x.get('title'),x.get('href'), \"\"]) if len(item.find_all('a'))> 0 else '' for x in item.find_all('a')]\n",
    "                    [fam_details.append([key_orig, new_url, item_id, x.text, \"N/A\", \"\"]) for x in item.find_all('li') if x.find_all('a')==[]]\n",
    "                    [fam_details.append([key_orig, new_url, item_id, item.find('td').text,\"N/A\", \"\"]) if len(item.find_all('a'))== 0 else '']        \n",
    "        if len(fam_details) == 0: \n",
    "            return [[key_orig, new_url, \"N/A\",\"N/A\", \"N/A\", \"no_family\"]]\n",
    "        else:\n",
    "            return fam_details\n",
    "    except: \n",
    "        return [[key_orig, \"N/A\", \"N/A\", \"N/A\", \"N/A\", \"no_wiki\",]]"
   ]
  },
  {
   "cell_type": "code",
   "execution_count": 16,
   "metadata": {
    "collapsed": false
   },
   "outputs": [],
   "source": [
    "final_fam = []\n",
    "for name in key_df['id']: \n",
    "    final_fam.extend(fam_tree(name))"
   ]
  },
  {
   "cell_type": "code",
   "execution_count": 17,
   "metadata": {
    "collapsed": false
   },
   "outputs": [
    {
     "data": {
      "text/html": [
       "<div>\n",
       "<style scoped>\n",
       "    .dataframe tbody tr th:only-of-type {\n",
       "        vertical-align: middle;\n",
       "    }\n",
       "\n",
       "    .dataframe tbody tr th {\n",
       "        vertical-align: top;\n",
       "    }\n",
       "\n",
       "    .dataframe thead th {\n",
       "        text-align: right;\n",
       "    }\n",
       "</style>\n",
       "<table border=\"1\" class=\"dataframe\">\n",
       "  <thead>\n",
       "    <tr style=\"text-align: right;\">\n",
       "      <th></th>\n",
       "      <th>key</th>\n",
       "      <th>source</th>\n",
       "      <th>relationship</th>\n",
       "      <th>name</th>\n",
       "      <th>wiki_link</th>\n",
       "      <th>notes</th>\n",
       "    </tr>\n",
       "  </thead>\n",
       "  <tbody>\n",
       "    <tr>\n",
       "      <th>0</th>\n",
       "      <td>dorisleuthard</td>\n",
       "      <td>https://en.wikipedia.org/wiki/Doris_Leuthard</td>\n",
       "      <td>S</td>\n",
       "      <td>Roland Hausin</td>\n",
       "      <td>N/A</td>\n",
       "      <td></td>\n",
       "    </tr>\n",
       "    <tr>\n",
       "      <th>1</th>\n",
       "      <td>moonjaein</td>\n",
       "      <td>https://en.wikipedia.org/wiki/Moon_Jae-in</td>\n",
       "      <td>S</td>\n",
       "      <td>Kim Jung-sook</td>\n",
       "      <td>/wiki/Kim_Jung-sook</td>\n",
       "      <td></td>\n",
       "    </tr>\n",
       "    <tr>\n",
       "      <th>2</th>\n",
       "      <td>moonjaein</td>\n",
       "      <td>https://en.wikipedia.org/wiki/Moon_Jae-in</td>\n",
       "      <td>C</td>\n",
       "      <td>2</td>\n",
       "      <td>N/A</td>\n",
       "      <td></td>\n",
       "    </tr>\n",
       "    <tr>\n",
       "      <th>3</th>\n",
       "      <td>benjaminnetanyahu</td>\n",
       "      <td>https://en.wikipedia.org/wiki/Benjamin_Netanyahu</td>\n",
       "      <td>S</td>\n",
       "      <td>Sara Netanyahu</td>\n",
       "      <td>/wiki/Sara_Netanyahu</td>\n",
       "      <td></td>\n",
       "    </tr>\n",
       "    <tr>\n",
       "      <th>4</th>\n",
       "      <td>benjaminnetanyahu</td>\n",
       "      <td>https://en.wikipedia.org/wiki/Benjamin_Netanyahu</td>\n",
       "      <td>S</td>\n",
       "      <td>Miriam Weizmann(m. 1972; div. 1978)</td>\n",
       "      <td>N/A</td>\n",
       "      <td></td>\n",
       "    </tr>\n",
       "  </tbody>\n",
       "</table>\n",
       "</div>"
      ],
      "text/plain": [
       "                 key                                            source  \\\n",
       "0      dorisleuthard      https://en.wikipedia.org/wiki/Doris_Leuthard   \n",
       "1          moonjaein         https://en.wikipedia.org/wiki/Moon_Jae-in   \n",
       "2          moonjaein         https://en.wikipedia.org/wiki/Moon_Jae-in   \n",
       "3  benjaminnetanyahu  https://en.wikipedia.org/wiki/Benjamin_Netanyahu   \n",
       "4  benjaminnetanyahu  https://en.wikipedia.org/wiki/Benjamin_Netanyahu   \n",
       "\n",
       "  relationship                                 name             wiki_link  \\\n",
       "0            S                        Roland Hausin                   N/A   \n",
       "1            S                        Kim Jung-sook   /wiki/Kim_Jung-sook   \n",
       "2            C                                    2                   N/A   \n",
       "3            S                       Sara Netanyahu  /wiki/Sara_Netanyahu   \n",
       "4            S  Miriam Weizmann(m. 1972; div. 1978)                   N/A   \n",
       "\n",
       "  notes  \n",
       "0        \n",
       "1        \n",
       "2        \n",
       "3        \n",
       "4        "
      ]
     },
     "execution_count": 17,
     "metadata": {},
     "output_type": "execute_result"
    }
   ],
   "source": [
    "final_df = pd.DataFrame(final_fam, columns = [\"key\", \"source\", \"relationship\", \"name\", \"wiki_link\", \"notes\"])\n",
    "final_df = final_df.astype(str)\n",
    "final_df.head()"
   ]
  },
  {
   "cell_type": "code",
   "execution_count": 18,
   "metadata": {
    "collapsed": false
   },
   "outputs": [
    {
     "data": {
      "text/html": [
       "<div>\n",
       "<style scoped>\n",
       "    .dataframe tbody tr th:only-of-type {\n",
       "        vertical-align: middle;\n",
       "    }\n",
       "\n",
       "    .dataframe tbody tr th {\n",
       "        vertical-align: top;\n",
       "    }\n",
       "\n",
       "    .dataframe thead th {\n",
       "        text-align: right;\n",
       "    }\n",
       "</style>\n",
       "<table border=\"1\" class=\"dataframe\">\n",
       "  <thead>\n",
       "    <tr style=\"text-align: right;\">\n",
       "      <th></th>\n",
       "      <th>key</th>\n",
       "      <th>source</th>\n",
       "      <th>relationship</th>\n",
       "      <th>name</th>\n",
       "      <th>wiki_link</th>\n",
       "      <th>notes</th>\n",
       "    </tr>\n",
       "  </thead>\n",
       "  <tbody>\n",
       "    <tr>\n",
       "      <th>0</th>\n",
       "      <td>dorisleuthard</td>\n",
       "      <td>https://en.wikipedia.org/wiki/Doris_Leuthard</td>\n",
       "      <td>S</td>\n",
       "      <td>Roland Hausin</td>\n",
       "      <td>N/A</td>\n",
       "      <td></td>\n",
       "    </tr>\n",
       "    <tr>\n",
       "      <th>1</th>\n",
       "      <td>moonjaein</td>\n",
       "      <td>https://en.wikipedia.org/wiki/Moon_Jae-in</td>\n",
       "      <td>S</td>\n",
       "      <td>Kim Jung-sook</td>\n",
       "      <td>/wiki/Kim_Jung-sook</td>\n",
       "      <td></td>\n",
       "    </tr>\n",
       "    <tr>\n",
       "      <th>2</th>\n",
       "      <td>moonjaein</td>\n",
       "      <td>https://en.wikipedia.org/wiki/Moon_Jae-in</td>\n",
       "      <td>C</td>\n",
       "      <td>Unknown</td>\n",
       "      <td>N/A</td>\n",
       "      <td>2</td>\n",
       "    </tr>\n",
       "    <tr>\n",
       "      <th>3</th>\n",
       "      <td>benjaminnetanyahu</td>\n",
       "      <td>https://en.wikipedia.org/wiki/Benjamin_Netanyahu</td>\n",
       "      <td>S</td>\n",
       "      <td>Sara Netanyahu</td>\n",
       "      <td>/wiki/Sara_Netanyahu</td>\n",
       "      <td></td>\n",
       "    </tr>\n",
       "    <tr>\n",
       "      <th>4</th>\n",
       "      <td>benjaminnetanyahu</td>\n",
       "      <td>https://en.wikipedia.org/wiki/Benjamin_Netanyahu</td>\n",
       "      <td>S</td>\n",
       "      <td>Miriam Weizmann</td>\n",
       "      <td>N/A</td>\n",
       "      <td>m. 1972; div. 1978</td>\n",
       "    </tr>\n",
       "  </tbody>\n",
       "</table>\n",
       "</div>"
      ],
      "text/plain": [
       "                 key                                            source  \\\n",
       "0      dorisleuthard      https://en.wikipedia.org/wiki/Doris_Leuthard   \n",
       "1          moonjaein         https://en.wikipedia.org/wiki/Moon_Jae-in   \n",
       "2          moonjaein         https://en.wikipedia.org/wiki/Moon_Jae-in   \n",
       "3  benjaminnetanyahu  https://en.wikipedia.org/wiki/Benjamin_Netanyahu   \n",
       "4  benjaminnetanyahu  https://en.wikipedia.org/wiki/Benjamin_Netanyahu   \n",
       "\n",
       "  relationship             name             wiki_link               notes  \n",
       "0            S    Roland Hausin                   N/A                      \n",
       "1            S    Kim Jung-sook   /wiki/Kim_Jung-sook                      \n",
       "2            C          Unknown                   N/A                   2  \n",
       "3            S   Sara Netanyahu  /wiki/Sara_Netanyahu                      \n",
       "4            S  Miriam Weizmann                   N/A  m. 1972; div. 1978  "
      ]
     },
     "execution_count": 18,
     "metadata": {},
     "output_type": "execute_result"
    }
   ],
   "source": [
    "#Data cleaning \n",
    "##Move all information in brackets to 'notes' column\n",
    "final_df[\"notes\"] = final_df[\"name\"].apply(lambda x: x.split(\"(\")[1].replace(\")\", \"\") if len(x.split(\"(\"))>1 else '')\n",
    "final_df[\"name\"] = final_df[\"name\"].apply(lambda x: x.split(\"(\")[0])\n",
    "\n",
    "##Replace numbers in 'name' column with 'Unknown'. Move numbers to 'notes'\n",
    "## Children - 'name: 3' will now read 'name: Unknown, notes: 3' \n",
    "final_df.loc[final_df[\"name\"].str.isdigit(), 'notes'] = final_df[\"name\"] \n",
    "final_df.loc[final_df[\"name\"].str.isdigit(), 'name'] = \"Unknown\"\n",
    "final_df.head()"
   ]
  },
  {
   "cell_type": "code",
   "execution_count": 19,
   "metadata": {
    "collapsed": false
   },
   "outputs": [],
   "source": [
    "#Export data to csv \n",
    "final_df.to_csv(\"wikipedia_family_tree.csv\", index = False)"
   ]
  }
 ],
 "metadata": {
  "anaconda-cloud": {},
  "kernelspec": {
   "display_name": "Python [default]",
   "language": "python",
   "name": "python3"
  },
  "language_info": {
   "codemirror_mode": {
    "name": "ipython",
    "version": 3
   },
   "file_extension": ".py",
   "mimetype": "text/x-python",
   "name": "python",
   "nbconvert_exporter": "python",
   "pygments_lexer": "ipython3",
   "version": "3.5.5"
  }
 },
 "nbformat": 4,
 "nbformat_minor": 1
}
